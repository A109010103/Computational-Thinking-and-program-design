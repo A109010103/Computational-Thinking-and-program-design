{
  "nbformat": 4,
  "nbformat_minor": 0,
  "metadata": {
    "kernelspec": {
      "display_name": "Python 3",
      "language": "python",
      "name": "python3"
    },
    "language_info": {
      "codemirror_mode": {
        "name": "ipython",
        "version": 3
      },
      "file_extension": ".py",
      "mimetype": "text/x-python",
      "name": "python",
      "nbconvert_exporter": "python",
      "pygments_lexer": "ipython3",
      "version": "3.8.5"
    },
    "colab": {
      "name": "「王慶禾 - Week14- 作業習題.ipynb」",
      "provenance": [],
      "include_colab_link": true
    }
  },
  "cells": [
    {
      "cell_type": "markdown",
      "metadata": {
        "id": "view-in-github",
        "colab_type": "text"
      },
      "source": [
        "<a href=\"https://colab.research.google.com/github/A109010103/Computational-Thinking-and-program-design/blob/main/%E3%80%8C%E7%8E%8B%E6%85%B6%E7%A6%BE_Week14_%E4%BD%9C%E6%A5%AD%E7%BF%92%E9%A1%8C_ipynb%E3%80%8D(%E4%B8%8A%E8%AA%B2%E5%AE%8C%E4%BF%AE%E6%AD%A3%E7%9A%84%E7%89%88%E6%9C%AC).ipynb\" target=\"_parent\"><img src=\"https://colab.research.google.com/assets/colab-badge.svg\" alt=\"Open In Colab\"/></a>"
      ]
    },
    {
      "cell_type": "markdown",
      "metadata": {
        "id": "ZHmmNBNuUOL7"
      },
      "source": [
        "**隨堂練習1： BMI 計算**\n",
        "\n",
        "請寫一個程式讓使用者輸入身高與體重，顯示BMI 值與肥胖程度。 BMI 等於體重（KG）除以身高（M）的平方，而BMI 與肥胖分類標準如下：\n",
        "\n",
        "若BMI 值小於18，則顯示「體重過輕」，否則若BMI 值小於24，則顯示「體重正常」，若BMI 值小於27，則顯示「體重過重」，否則顯示「體重肥胖」。"
      ]
    },
    {
      "cell_type": "code",
      "metadata": {
        "colab": {
          "base_uri": "https://localhost:8080/"
        },
        "id": "lGV3A8K5UOL-",
        "outputId": "197128c3-822f-480d-cd58-48a89bc3af17"
      },
      "source": [
        "t = float(input(\"輸入你的身高:\"))\n",
        "w = int(input(\"輸入你的體重\"))\n",
        "BMI = w/t**2\n",
        "print(BMI)\n",
        "\n",
        "if BMI<18:\n",
        "    print(\"體重過輕\")\n",
        "elif BMI<24:\n",
        "    print(\"體重正常\")\n",
        "elif BMI>27:\n",
        "    print(\"體重過重\")"
      ],
      "execution_count": null,
      "outputs": [
        {
          "output_type": "stream",
          "text": [
            "輸入你的身高:1.55\n",
            "輸入你的體重45\n",
            "18.730489073881373\n",
            "體重正常\n"
          ],
          "name": "stdout"
        }
      ]
    },
    {
      "cell_type": "markdown",
      "metadata": {
        "id": "TRLEbh1YUOL_"
      },
      "source": [
        "**隨堂練習2： 三一律(單向選擇、雙向與巢狀選擇、多向選擇)**\n",
        "\n",
        "請輸入一個數，然後判斷這個數是正數、是負數或者是零。"
      ]
    },
    {
      "cell_type": "code",
      "metadata": {
        "colab": {
          "base_uri": "https://localhost:8080/"
        },
        "id": "eho6eOw_UOMA",
        "outputId": "45c7b5b7-80a4-4879-b732-6c0ffcd8fb4d"
      },
      "source": [
        "#單向選擇\n",
        "num = int(input(\"輸入數字\"))\n",
        "\n",
        "if num > 0:\n",
        "    print(\"正數\")\n",
        "if num < 0:\n",
        "    print(\"負數\")\n",
        "if num == 0:\n",
        "    print(\"零\")\n",
        "print(\"判斷結束\")\n",
        "\n",
        "#多向判斷\n",
        "num = int(input(\"輸入數字\"))\n",
        "\n",
        "if num > 0:\n",
        "    print(\"正數\")\n",
        "elif num < 0:\n",
        "    print(\"負數\")\n",
        "else:\n",
        "    print(\"零\")\n",
        "print(\"判斷結束\")\n",
        "\n",
        "#雙向選擇\n",
        "num = int(input(\"輸入數字\"))\n",
        "\n",
        "if num > 0:\n",
        "    print(\"正數\")\n",
        "else:\n",
        "  if num < 0:\n",
        "    print(\"負數\")\n",
        "  else:\n",
        "    print(\"零\")\n",
        "print(\"判斷結束\")"
      ],
      "execution_count": null,
      "outputs": [
        {
          "output_type": "stream",
          "text": [
            "輸入數字7\n",
            "正數\n",
            "判斷結束\n",
            "輸入數字-6\n",
            "負數\n",
            "判斷結束\n",
            "輸入數字0\n",
            "零\n",
            "判斷結束\n"
          ],
          "name": "stdout"
        }
      ]
    },
    {
      "cell_type": "markdown",
      "metadata": {
        "id": "yPvQVCYNUOMA"
      },
      "source": [
        "**練習5   體溫與發燒**\n",
        "\n",
        "設計程式根據體溫判斷是否發燒，由使用者輸入體溫，程式判斷是否發燒，假設體溫小於36度，顯示「體溫過低」，體溫大於等於36度小於38度，顯示「體溫正常」，否則若體溫大於等於38度小於39度，顯示「體溫有點燒」，否則體溫大於等於39度，顯示「體溫很燒」。\n",
        "\n",
        "輸入體溫「36.5」，輸出為「體溫正常」。\n",
        "\n",
        "～程式執行結果如下。\n",
        "\n",
        "請輸入體溫？36.5\n",
        "\n",
        "體溫正常"
      ]
    },
    {
      "cell_type": "code",
      "metadata": {
        "id": "VSpC0kAqUOMA",
        "colab": {
          "base_uri": "https://localhost:8080/"
        },
        "outputId": "7032753c-2e75-49a0-c2bb-de34bc7cf3ca"
      },
      "source": [
        "tem = float(input(\"Enter the number:\"))\n",
        "\n",
        "if tem < 36:\n",
        "    print(\"體溫過低\")\n",
        "elif 36 <= tem < 38 :\n",
        "    print(\"體溫正常\")\n",
        "elif 38<= tem <39 :\n",
        "    print(\"體溫有點燒\")\n",
        "else:\n",
        "    print(\"體溫很燒\")"
      ],
      "execution_count": null,
      "outputs": [
        {
          "output_type": "stream",
          "text": [
            "Enter the number:36.5\n",
            "體溫正常\n"
          ],
          "name": "stdout"
        }
      ]
    },
    {
      "cell_type": "markdown",
      "metadata": {
        "id": "hl2gXEpZUOMB"
      },
      "source": [
        "**練習6  閏年判斷**\n",
        "\n",
        "設計程式允許輸入西元幾年，請求出該年是否是閏年，閏年表示該年多一天，若為4的倍數稱做閏年，但若為100的倍數就不為閏年，且若為400倍數又是閏年。(四年一潤、百年不潤、四百年再潤)\n",
        "\n",
        "輸入年份「2012」，輸出為「2012是閏年」。\n",
        "\n",
        "～程式執行結果如下。\n",
        "\n",
        "請輸入年份？2012\n",
        "\n",
        "2012 是閏年"
      ]
    },
    {
      "cell_type": "code",
      "metadata": {
        "id": "xL7EGi5JUOMB",
        "colab": {
          "base_uri": "https://localhost:8080/"
        },
        "outputId": "f56bcd7b-ecc4-48de-f497-a9e28a29fb12"
      },
      "source": [
        "r = int(input(\"Enter the number:\"))\n",
        "a = r%4\n",
        "b = r%100\n",
        "c = r%400\n",
        "\n",
        "if c == 0:\n",
        "    print(\"是閏年\")\n",
        "elif b == 0:\n",
        "    print(\"不是閏年\")\n",
        "elif a == 0:\n",
        "    print(\"是閏年\")\n",
        "else:\n",
        "    print(\"不是閏年\")\n"
      ],
      "execution_count": 3,
      "outputs": [
        {
          "output_type": "stream",
          "text": [
            "Enter the number:2012\n",
            "是閏年\n"
          ],
          "name": "stdout"
        }
      ]
    },
    {
      "cell_type": "markdown",
      "metadata": {
        "id": "HK8XVgiBUOMB"
      },
      "source": [
        "**練習12：計程車計費**\n",
        "\n",
        "某城市計程車計費3公里以內6元，超過3公里不足10公里、每公里1.8元，超過10公里則超過部分加收50%。此外停車等候每3分鐘收1元，請用Python寫出車費是多少。"
      ]
    },
    {
      "cell_type": "code",
      "metadata": {
        "id": "gdqI_9rhUOMC",
        "colab": {
          "base_uri": "https://localhost:8080/"
        },
        "outputId": "77875336-7dc0-41fe-e108-03be4607bbe3"
      },
      "source": [
        "km = int(input(\"Enter the number:\"))\n",
        "\n",
        "if km < 3: \n",
        "    print(\"6元\")\n",
        "elif 3 <= km < 10:\n",
        "    print(6+((km-3)*1.8)//1 , \"元\")\n",
        "else:\n",
        "    print(6+((km-3)*1.8)//1+((km-10)*1.8*1.5)//1 , \"元\")\n",
        "\n",
        "t = int(input(\"Enter the number:\"))\n",
        "\n",
        "if km < 3: \n",
        "    print(\"計程車費總共\" , 6+(t//3)*1 , \"元\")\n",
        "elif 3 <= km < 10:\n",
        "    print(\"計程車費總共\" , 6+((km-3)*1.8)//1+(t//3)*1 , \"元\")\n",
        "else:\n",
        "    print(\"計程車費總共\" , 6+((km-3)*1.8)//1+((km-10)*1.8*1.5)//1+(t//3)*1 , \"元\")"
      ],
      "execution_count": 6,
      "outputs": [
        {
          "output_type": "stream",
          "text": [
            "Enter the number:30\n",
            "108.0 元\n",
            "Enter the number:10\n",
            "計程車費總共 111.0 元\n"
          ],
          "name": "stdout"
        }
      ]
    },
    {
      "cell_type": "code",
      "metadata": {
        "id": "HkJWuqTiUOMC",
        "colab": {
          "base_uri": "https://localhost:8080/"
        },
        "outputId": "3003cdeb-9f29-425b-c298-6f1824573e66"
      },
      "source": [
        "movie_title = input('請輸入電影的名稱:')\n",
        "movie_rating = float(input('請輸入電影的評等:'))\n",
        "\n",
        "if movie_rating>7:\n",
        "    print(\"go\")\n",
        "if movie_rating<7: \n",
        "    print(\"not go\")"
      ],
      "execution_count": 12,
      "outputs": [
        {
          "output_type": "stream",
          "text": [
            "請輸入電影的名稱:陽光普照\n",
            "請輸入電影的評等:8.5\n",
            "go\n"
          ],
          "name": "stdout"
        }
      ]
    }
  ]
}