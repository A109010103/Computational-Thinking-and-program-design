{
  "nbformat": 4,
  "nbformat_minor": 0,
  "metadata": {
    "colab": {
      "name": "「王慶禾-week4-練習作業.ipynb」的副本",
      "provenance": [],
      "authorship_tag": "ABX9TyMl3Nmfu/azkjZZRydK0R7B",
      "include_colab_link": true
    },
    "kernelspec": {
      "name": "python3",
      "display_name": "Python 3"
    }
  },
  "cells": [
    {
      "cell_type": "markdown",
      "metadata": {
        "id": "view-in-github",
        "colab_type": "text"
      },
      "source": [
        "<a href=\"https://colab.research.google.com/github/A109010103/Computational-Thinking-and-program-design/blob/main/%E7%8E%8B%E6%85%B6%E7%A6%BE_week4_%E7%B7%B4%E7%BF%92%E4%BD%9C%E6%A5%AD_ipynb.ipynb\" target=\"_parent\"><img src=\"https://colab.research.google.com/assets/colab-badge.svg\" alt=\"Open In Colab\"/></a>"
      ]
    },
    {
      "cell_type": "code",
      "metadata": {
        "id": "3Sp_nlGCUjSZ"
      },
      "source": [
        ""
      ],
      "execution_count": null,
      "outputs": []
    },
    {
      "cell_type": "markdown",
      "metadata": {
        "id": "tN9DaLNuVClq"
      },
      "source": [
        "#隨堂練習"
      ]
    },
    {
      "cell_type": "markdown",
      "metadata": {
        "id": "jWAxRXa4VHQX"
      },
      "source": [
        "#課後練習"
      ]
    },
    {
      "cell_type": "markdown",
      "metadata": {
        "id": "3ss5bOhOWU_z"
      },
      "source": [
        "**從一則新聞報導，提出你對新聞系（OO系）學生為什麼要學「運算思維與程式設計」的見解。（告訴我新聞連結，以及你的觀點即可。）**"
      ]
    },
    {
      "cell_type": "markdown",
      "metadata": {
        "id": "m8-750qdX68i"
      },
      "source": [
        "https://colab.research.google.com/drive/1G4EugUOtlRAsKTJtQIgsUGpy93YtA_Yc#scrollTo=m8-750qdX68i&line=1&uniqifier=1"
      ]
    },
    {
      "cell_type": "markdown",
      "metadata": {
        "id": "zleD0B1nYiEK"
      },
      "source": [
        "專家表示，未來的世界，只有會寫程式的人，以及不會寫程式人，所言一點都不假，現在我們這個科技發達的社會裡，所有事都跟程式有關，小至手機裡的軟體，大至人工機器人的發明，都跟程式有關，而在未來的社會裡，就算新聞業，也有學習程式的必要，因為在網路發達的時代，人們不只用電視看新聞，而是用手機中的APP或社群軟體去了解社會時事，如果現在不學習程式，未來在進入職場後，比起其他人就少了一項技能，我覺得學習程式對我們的未來只有好處沒有壞處，學會程式後，也在職場上多一個專長去跟他人競爭。"
      ]
    },
    {
      "cell_type": "code",
      "metadata": {
        "id": "gJ4pmm0jbmcD"
      },
      "source": [
        ""
      ],
      "execution_count": null,
      "outputs": []
    }
  ]
}