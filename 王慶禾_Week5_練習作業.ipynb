{
  "nbformat": 4,
  "nbformat_minor": 0,
  "metadata": {
    "colab": {
      "name": "「王慶禾-Week5-練習作業.ipynb」的副本",
      "provenance": [],
      "collapsed_sections": [],
      "include_colab_link": true
    },
    "kernelspec": {
      "display_name": "Python 3",
      "language": "python",
      "name": "python3"
    },
    "language_info": {
      "codemirror_mode": {
        "name": "ipython",
        "version": 3
      },
      "file_extension": ".py",
      "mimetype": "text/x-python",
      "name": "python",
      "nbconvert_exporter": "python",
      "pygments_lexer": "ipython3",
      "version": "3.8.5"
    }
  },
  "cells": [
    {
      "cell_type": "markdown",
      "metadata": {
        "id": "view-in-github",
        "colab_type": "text"
      },
      "source": [
        "<a href=\"https://colab.research.google.com/github/A109010103/Computational-Thinking-and-program-design/blob/main/%E7%8E%8B%E6%85%B6%E7%A6%BE_Week5_%E7%B7%B4%E7%BF%92%E4%BD%9C%E6%A5%AD.ipynb\" target=\"_parent\"><img src=\"https://colab.research.google.com/assets/colab-badge.svg\" alt=\"Open In Colab\"/></a>"
      ]
    },
    {
      "cell_type": "markdown",
      "metadata": {
        "id": "wnyrzAGjhGPU"
      },
      "source": [
        "# 序列主題（一）:變數賦值與輸入輸出"
      ]
    },
    {
      "cell_type": "markdown",
      "metadata": {
        "id": "qto0EG3Y2XVc"
      },
      "source": [
        "## I. 自由練習"
      ]
    },
    {
      "cell_type": "markdown",
      "metadata": {
        "id": "v8MMOAhg6FVQ"
      },
      "source": [
        "**1. 變數賦值**\n",
        "\n",
        "用變數儲存資料，將資料放在電腦記憶體中的某個位置，然後給這個地方一個好名字。"
      ]
    },
    {
      "cell_type": "code",
      "metadata": {
        "colab": {
          "base_uri": "https://localhost:8080/"
        },
        "id": "nL5kpqeNjkmu",
        "outputId": "6f5d0b83-fabd-4010-bbe8-40ad127c9f28"
      },
      "source": [
        "a=50\n",
        "print(a)\n",
        "b=100\n",
        "print(b)\n"
      ],
      "execution_count": null,
      "outputs": [
        {
          "output_type": "stream",
          "text": [
            "50\n",
            "100\n"
          ],
          "name": "stdout"
        }
      ]
    },
    {
      "cell_type": "markdown",
      "metadata": {
        "id": "0IvbHo9y2fnk"
      },
      "source": [
        "**2. 變數三二一**\n",
        "\n",
        "一個特殊符號(等號、名字=資料)，兩種運算方式(運算式與函式)，三種資料型態(文字數字與布林)"
      ]
    },
    {
      "cell_type": "code",
      "metadata": {
        "colab": {
          "base_uri": "https://localhost:8080/"
        },
        "id": "UOOHy7fnkH9_",
        "outputId": "b740964f-c342-4a53-e9e5-339973d58e2a"
      },
      "source": [
        "x=20\n",
        "y=50\n",
        "sum=x+y\n",
        "print(sum)\n"
      ],
      "execution_count": null,
      "outputs": [
        {
          "output_type": "stream",
          "text": [
            "70\n"
          ],
          "name": "stdout"
        }
      ]
    },
    {
      "cell_type": "markdown",
      "metadata": {
        "id": "ojk8RUrAhGPW"
      },
      "source": [
        "(1)光有名字不行，要有等號，要有資料；名字在左、資料在右，運算式也可以。"
      ]
    },
    {
      "cell_type": "code",
      "metadata": {
        "id": "r3mqrAVF87Y5",
        "colab": {
          "base_uri": "https://localhost:8080/",
          "height": 133
        },
        "outputId": "88591e3c-b583-43c0-ebec-22741cc2254d"
      },
      "source": [
        "# 練習\n",
        "Sum = 0\n",
        "A = 1\n",
        "B = 2 #「=」的左邊是名字，不能放常數。\n",
        "A + B = Sum #「=」的左邊不能是運算式。 \n",
        "A, B = 1, 2 # 這樣寫可以，是Pythonic的寫法。"
      ],
      "execution_count": null,
      "outputs": [
        {
          "output_type": "error",
          "ename": "SyntaxError",
          "evalue": "ignored",
          "traceback": [
            "\u001b[0;36m  File \u001b[0;32m\"<ipython-input-2-66027d090e6f>\"\u001b[0;36m, line \u001b[0;32m5\u001b[0m\n\u001b[0;31m    A + B = Sum #「=」的左邊不能是運算式。\u001b[0m\n\u001b[0m                               ^\u001b[0m\n\u001b[0;31mSyntaxError\u001b[0m\u001b[0;31m:\u001b[0m can't assign to operator\n"
          ]
        }
      ]
    },
    {
      "cell_type": "code",
      "metadata": {
        "id": "uerYKHqR9C14"
      },
      "source": [
        "Sum = 0\n",
        "A = 1\n",
        "B = 2 #「=」的左邊是名字，不能放常數。\n",
        "Sum = A + B #「=」的左邊不能是運算式。 \n",
        "A, B = 1, 2 # 這樣寫可以，是Pythonic的寫法。"
      ],
      "execution_count": null,
      "outputs": []
    },
    {
      "cell_type": "markdown",
      "metadata": {
        "id": "cKYacmLehGPW"
      },
      "source": [
        "(2)變數的命名，選個好名字。"
      ]
    },
    {
      "cell_type": "markdown",
      "metadata": {
        "id": "E8_TvM0x6Ibe"
      },
      "source": [
        "**3.數字文字布林三種資料類型**\n",
        "\n",
        "整數浮點數、字串、真假。用type()判斷資料類型，用int(),float(),str(), bool()指定資料型態。"
      ]
    },
    {
      "cell_type": "code",
      "metadata": {
        "colab": {
          "base_uri": "https://localhost:8080/"
        },
        "id": "-yAx9LvNkaE2",
        "outputId": "f1485d62-4e27-4606-fd57-2d5651138718"
      },
      "source": [
        "print(69)\n",
        "print(6.9)\n",
        "omg='OH MY GOD'\n",
        "omg=\"OH MY GOD\"\n",
        "print(omg)\n",
        "print(omg)\n",
        "es1=\"I'm a beauty babe\"\n",
        "es2=\"I\\'m a beauty babe\"\n",
        "\n",
        "es3='I\\'m a beauty babe'\n",
        "print(es1, es2, es3)\n",
        "print(True)\n",
        "print(False)\n"
      ],
      "execution_count": null,
      "outputs": [
        {
          "output_type": "stream",
          "text": [
            "69\n",
            "6.9\n",
            "OH MY GOD\n",
            "OH MY GOD\n",
            "I'm a beauty babe I'm a beauty babe I'm a beauty babe\n",
            "True\n",
            "False\n"
          ],
          "name": "stdout"
        }
      ]
    },
    {
      "cell_type": "code",
      "metadata": {
        "colab": {
          "base_uri": "https://localhost:8080/"
        },
        "id": "MRX7Wdnu9LxD",
        "outputId": "0a03fd42-0087-47db-dfa2-9b04d85e3ed0"
      },
      "source": [
        "# 練習\n",
        "print(87)\n",
        "print(8.7)\n",
        "\n",
        "hello_py1 = 'Hello Python!'\n",
        "hello_py2 = \"Hello Python!\"\n",
        "print(hello_py1)\n",
        "print(hello_py2)\n",
        "\n",
        "es1 = \"I'm a student.\"\n",
        "es2 = \"I\\'m a student.\"\n",
        "es3 = 'I\\'m a student.'\n",
        "print(es1, es2, es3)\n",
        "\n",
        "print(True)\n",
        "print(False)"
      ],
      "execution_count": null,
      "outputs": [
        {
          "output_type": "stream",
          "text": [
            "87\n",
            "8.7\n",
            "Hello Python!\n",
            "Hello Python!\n",
            "I'm a student. I'm a student. I'm a student.\n",
            "True\n",
            "False\n"
          ],
          "name": "stdout"
        }
      ]
    },
    {
      "cell_type": "markdown",
      "metadata": {
        "id": "BlzW-KBShGPX"
      },
      "source": [
        "(3)資料類型的判斷用type()"
      ]
    },
    {
      "cell_type": "code",
      "metadata": {
        "colab": {
          "base_uri": "https://localhost:8080/"
        },
        "id": "XASUEG_foggJ",
        "outputId": "1f387bf3-0435-4daf-e7a4-58f583cb770d"
      },
      "source": [
        "print(type(69))\n",
        "print(type(6.9))\n",
        "print(type(\"OH MY GOD\"))\n",
        "print(type(True))\n",
        "print(type(False))\n",
        "print(type(None))\n",
        "\n"
      ],
      "execution_count": null,
      "outputs": [
        {
          "output_type": "stream",
          "text": [
            "<class 'int'>\n",
            "<class 'float'>\n",
            "<class 'str'>\n",
            "<class 'bool'>\n",
            "<class 'bool'>\n",
            "<class 'NoneType'>\n"
          ],
          "name": "stdout"
        }
      ]
    },
    {
      "cell_type": "markdown",
      "metadata": {
        "id": "F_QiVc-4hGPX"
      },
      "source": [
        "(4)資料類型的建立與轉換用int(), float(),str(),bool() "
      ]
    },
    {
      "cell_type": "code",
      "metadata": {
        "colab": {
          "base_uri": "https://localhost:8080/"
        },
        "id": "dEmq0rOJppRV",
        "outputId": "ccb8c43c-616c-43a2-fed5-73eae7796f99"
      },
      "source": [
        "my_int=69\n",
        "my_float=6.9\n",
        "my_str=\"OH MY GOD\"\n",
        "bool_true=True\n",
        "bool_false=False\n",
        "none_type=None\n",
        "print(type(my_int))\n",
        "print(type(my_float))\n",
        "print(type(my_str))\n",
        "print(type(bool_true))\n",
        "print(type(bool_false))\n",
        "print(type(none_type))\n"
      ],
      "execution_count": null,
      "outputs": [
        {
          "output_type": "stream",
          "text": [
            "<class 'int'>\n",
            "<class 'float'>\n",
            "<class 'str'>\n",
            "<class 'bool'>\n",
            "<class 'bool'>\n",
            "<class 'NoneType'>\n"
          ],
          "name": "stdout"
        }
      ]
    },
    {
      "cell_type": "markdown",
      "metadata": {
        "id": "DArIzBHe6om9"
      },
      "source": [
        "**4.輸入**\n",
        "\n",
        "用input()輸入資料。要有小括號、要有輸入說明、要有等號賦值，儲存的資料為文字字串、做數學運算時需要改變資料類型。"
      ]
    },
    {
      "cell_type": "code",
      "metadata": {
        "id": "5ofORK0pno4g"
      },
      "source": [
        ""
      ],
      "execution_count": null,
      "outputs": []
    },
    {
      "cell_type": "code",
      "metadata": {
        "id": "HAx_qPWI-enp",
        "colab": {
          "base_uri": "https://localhost:8080/",
          "height": 563
        },
        "outputId": "1d5fc3db-050f-4545-88a5-f8e22f2d4388"
      },
      "source": [
        "# 練習\n",
        "a = input(\"Input number a = \")\n",
        "b = input(\"Input number b = \")\n",
        "print(a, b)\n",
        "print(a + b)\n",
        "print(a + 1)"
      ],
      "execution_count": null,
      "outputs": [
        {
          "output_type": "error",
          "ename": "KeyboardInterrupt",
          "evalue": "ignored",
          "traceback": [
            "\u001b[0;31m---------------------------------------------------------------------------\u001b[0m",
            "\u001b[0;31mKeyboardInterrupt\u001b[0m                         Traceback (most recent call last)",
            "\u001b[0;32m/usr/local/lib/python3.7/dist-packages/ipykernel/kernelbase.py\u001b[0m in \u001b[0;36m_input_request\u001b[0;34m(self, prompt, ident, parent, password)\u001b[0m\n\u001b[1;32m    728\u001b[0m             \u001b[0;32mtry\u001b[0m\u001b[0;34m:\u001b[0m\u001b[0;34m\u001b[0m\u001b[0;34m\u001b[0m\u001b[0m\n\u001b[0;32m--> 729\u001b[0;31m                 \u001b[0mident\u001b[0m\u001b[0;34m,\u001b[0m \u001b[0mreply\u001b[0m \u001b[0;34m=\u001b[0m \u001b[0mself\u001b[0m\u001b[0;34m.\u001b[0m\u001b[0msession\u001b[0m\u001b[0;34m.\u001b[0m\u001b[0mrecv\u001b[0m\u001b[0;34m(\u001b[0m\u001b[0mself\u001b[0m\u001b[0;34m.\u001b[0m\u001b[0mstdin_socket\u001b[0m\u001b[0;34m,\u001b[0m \u001b[0;36m0\u001b[0m\u001b[0;34m)\u001b[0m\u001b[0;34m\u001b[0m\u001b[0;34m\u001b[0m\u001b[0m\n\u001b[0m\u001b[1;32m    730\u001b[0m             \u001b[0;32mexcept\u001b[0m \u001b[0mException\u001b[0m\u001b[0;34m:\u001b[0m\u001b[0;34m\u001b[0m\u001b[0;34m\u001b[0m\u001b[0m\n",
            "\u001b[0;32m/usr/local/lib/python3.7/dist-packages/jupyter_client/session.py\u001b[0m in \u001b[0;36mrecv\u001b[0;34m(self, socket, mode, content, copy)\u001b[0m\n\u001b[1;32m    802\u001b[0m         \u001b[0;32mtry\u001b[0m\u001b[0;34m:\u001b[0m\u001b[0;34m\u001b[0m\u001b[0;34m\u001b[0m\u001b[0m\n\u001b[0;32m--> 803\u001b[0;31m             \u001b[0mmsg_list\u001b[0m \u001b[0;34m=\u001b[0m \u001b[0msocket\u001b[0m\u001b[0;34m.\u001b[0m\u001b[0mrecv_multipart\u001b[0m\u001b[0;34m(\u001b[0m\u001b[0mmode\u001b[0m\u001b[0;34m,\u001b[0m \u001b[0mcopy\u001b[0m\u001b[0;34m=\u001b[0m\u001b[0mcopy\u001b[0m\u001b[0;34m)\u001b[0m\u001b[0;34m\u001b[0m\u001b[0;34m\u001b[0m\u001b[0m\n\u001b[0m\u001b[1;32m    804\u001b[0m         \u001b[0;32mexcept\u001b[0m \u001b[0mzmq\u001b[0m\u001b[0;34m.\u001b[0m\u001b[0mZMQError\u001b[0m \u001b[0;32mas\u001b[0m \u001b[0me\u001b[0m\u001b[0;34m:\u001b[0m\u001b[0;34m\u001b[0m\u001b[0;34m\u001b[0m\u001b[0m\n",
            "\u001b[0;32m/usr/local/lib/python3.7/dist-packages/zmq/sugar/socket.py\u001b[0m in \u001b[0;36mrecv_multipart\u001b[0;34m(self, flags, copy, track)\u001b[0m\n\u001b[1;32m    582\u001b[0m         \"\"\"\n\u001b[0;32m--> 583\u001b[0;31m         \u001b[0mparts\u001b[0m \u001b[0;34m=\u001b[0m \u001b[0;34m[\u001b[0m\u001b[0mself\u001b[0m\u001b[0;34m.\u001b[0m\u001b[0mrecv\u001b[0m\u001b[0;34m(\u001b[0m\u001b[0mflags\u001b[0m\u001b[0;34m,\u001b[0m \u001b[0mcopy\u001b[0m\u001b[0;34m=\u001b[0m\u001b[0mcopy\u001b[0m\u001b[0;34m,\u001b[0m \u001b[0mtrack\u001b[0m\u001b[0;34m=\u001b[0m\u001b[0mtrack\u001b[0m\u001b[0;34m)\u001b[0m\u001b[0;34m]\u001b[0m\u001b[0;34m\u001b[0m\u001b[0;34m\u001b[0m\u001b[0m\n\u001b[0m\u001b[1;32m    584\u001b[0m         \u001b[0;31m# have first part already, only loop while more to receive\u001b[0m\u001b[0;34m\u001b[0m\u001b[0;34m\u001b[0m\u001b[0;34m\u001b[0m\u001b[0m\n",
            "\u001b[0;32mzmq/backend/cython/socket.pyx\u001b[0m in \u001b[0;36mzmq.backend.cython.socket.Socket.recv\u001b[0;34m()\u001b[0m\n",
            "\u001b[0;32mzmq/backend/cython/socket.pyx\u001b[0m in \u001b[0;36mzmq.backend.cython.socket.Socket.recv\u001b[0;34m()\u001b[0m\n",
            "\u001b[0;32mzmq/backend/cython/socket.pyx\u001b[0m in \u001b[0;36mzmq.backend.cython.socket._recv_copy\u001b[0;34m()\u001b[0m\n",
            "\u001b[0;32m/usr/local/lib/python3.7/dist-packages/zmq/backend/cython/checkrc.pxd\u001b[0m in \u001b[0;36mzmq.backend.cython.checkrc._check_rc\u001b[0;34m()\u001b[0m\n",
            "\u001b[0;31mKeyboardInterrupt\u001b[0m: ",
            "\nDuring handling of the above exception, another exception occurred:\n",
            "\u001b[0;31mKeyboardInterrupt\u001b[0m                         Traceback (most recent call last)",
            "\u001b[0;32m<ipython-input-8-923294253141>\u001b[0m in \u001b[0;36m<module>\u001b[0;34m()\u001b[0m\n\u001b[1;32m      1\u001b[0m \u001b[0;31m# 練習\u001b[0m\u001b[0;34m\u001b[0m\u001b[0;34m\u001b[0m\u001b[0;34m\u001b[0m\u001b[0m\n\u001b[0;32m----> 2\u001b[0;31m \u001b[0ma\u001b[0m \u001b[0;34m=\u001b[0m \u001b[0minput\u001b[0m\u001b[0;34m(\u001b[0m\u001b[0;34m\"Input number a = \"\u001b[0m\u001b[0;34m)\u001b[0m\u001b[0;34m\u001b[0m\u001b[0;34m\u001b[0m\u001b[0m\n\u001b[0m\u001b[1;32m      3\u001b[0m \u001b[0mb\u001b[0m \u001b[0;34m=\u001b[0m \u001b[0minput\u001b[0m\u001b[0;34m(\u001b[0m\u001b[0;34m\"Input number b = \"\u001b[0m\u001b[0;34m)\u001b[0m\u001b[0;34m\u001b[0m\u001b[0;34m\u001b[0m\u001b[0m\n\u001b[1;32m      4\u001b[0m \u001b[0mprint\u001b[0m\u001b[0;34m(\u001b[0m\u001b[0ma\u001b[0m\u001b[0;34m,\u001b[0m \u001b[0mb\u001b[0m\u001b[0;34m)\u001b[0m\u001b[0;34m\u001b[0m\u001b[0;34m\u001b[0m\u001b[0m\n\u001b[1;32m      5\u001b[0m \u001b[0mprint\u001b[0m\u001b[0;34m(\u001b[0m\u001b[0ma\u001b[0m \u001b[0;34m+\u001b[0m \u001b[0mb\u001b[0m\u001b[0;34m)\u001b[0m\u001b[0;34m\u001b[0m\u001b[0;34m\u001b[0m\u001b[0m\n",
            "\u001b[0;32m/usr/local/lib/python3.7/dist-packages/ipykernel/kernelbase.py\u001b[0m in \u001b[0;36mraw_input\u001b[0;34m(self, prompt)\u001b[0m\n\u001b[1;32m    702\u001b[0m             \u001b[0mself\u001b[0m\u001b[0;34m.\u001b[0m\u001b[0m_parent_ident\u001b[0m\u001b[0;34m,\u001b[0m\u001b[0;34m\u001b[0m\u001b[0;34m\u001b[0m\u001b[0m\n\u001b[1;32m    703\u001b[0m             \u001b[0mself\u001b[0m\u001b[0;34m.\u001b[0m\u001b[0m_parent_header\u001b[0m\u001b[0;34m,\u001b[0m\u001b[0;34m\u001b[0m\u001b[0;34m\u001b[0m\u001b[0m\n\u001b[0;32m--> 704\u001b[0;31m             \u001b[0mpassword\u001b[0m\u001b[0;34m=\u001b[0m\u001b[0;32mFalse\u001b[0m\u001b[0;34m,\u001b[0m\u001b[0;34m\u001b[0m\u001b[0;34m\u001b[0m\u001b[0m\n\u001b[0m\u001b[1;32m    705\u001b[0m         )\n\u001b[1;32m    706\u001b[0m \u001b[0;34m\u001b[0m\u001b[0m\n",
            "\u001b[0;32m/usr/local/lib/python3.7/dist-packages/ipykernel/kernelbase.py\u001b[0m in \u001b[0;36m_input_request\u001b[0;34m(self, prompt, ident, parent, password)\u001b[0m\n\u001b[1;32m    732\u001b[0m             \u001b[0;32mexcept\u001b[0m \u001b[0mKeyboardInterrupt\u001b[0m\u001b[0;34m:\u001b[0m\u001b[0;34m\u001b[0m\u001b[0;34m\u001b[0m\u001b[0m\n\u001b[1;32m    733\u001b[0m                 \u001b[0;31m# re-raise KeyboardInterrupt, to truncate traceback\u001b[0m\u001b[0;34m\u001b[0m\u001b[0;34m\u001b[0m\u001b[0;34m\u001b[0m\u001b[0m\n\u001b[0;32m--> 734\u001b[0;31m                 \u001b[0;32mraise\u001b[0m \u001b[0mKeyboardInterrupt\u001b[0m\u001b[0;34m\u001b[0m\u001b[0;34m\u001b[0m\u001b[0m\n\u001b[0m\u001b[1;32m    735\u001b[0m             \u001b[0;32melse\u001b[0m\u001b[0;34m:\u001b[0m\u001b[0;34m\u001b[0m\u001b[0;34m\u001b[0m\u001b[0m\n\u001b[1;32m    736\u001b[0m                 \u001b[0;32mbreak\u001b[0m\u001b[0;34m\u001b[0m\u001b[0;34m\u001b[0m\u001b[0m\n",
            "\u001b[0;31mKeyboardInterrupt\u001b[0m: "
          ]
        }
      ]
    },
    {
      "cell_type": "code",
      "metadata": {
        "id": "lfH17gjb-4Bw"
      },
      "source": [
        "# 練習\n",
        "a = input(\"Input number a = \")\n",
        "b = input(\"Input number b = \")\n",
        "print(a, b)\n",
        "print(a + b)\n",
        "a = eval(a)\n",
        "print(a + 1)"
      ],
      "execution_count": null,
      "outputs": []
    },
    {
      "cell_type": "markdown",
      "metadata": {
        "id": "3Aof0VJI7Oq6"
      },
      "source": [
        "**5.輸出**\n",
        "\n",
        "print()為螢幕列印。將物件放在小括號中，多個物件以逗號相隔即可。\n",
        "注意分隔、換行等轉義序列用法(\\n, \\t, \\\", \\')。\n",
        "可以使用字串輸出列印，即print(f\"...{variable}...\")"
      ]
    },
    {
      "cell_type": "code",
      "metadata": {
        "id": "mHPoMyCTANrt"
      },
      "source": [
        "# 練習\n",
        "\n",
        "print(\"Hello, Francis\")\n",
        "\n",
        "name = \"Francis\"\n",
        "print(\"Hello, %s\" %name)\n",
        "print(\"Hello, {}\".format(name))\n",
        "print(f\"Hello, {name}\")"
      ],
      "execution_count": null,
      "outputs": []
    },
    {
      "cell_type": "markdown",
      "metadata": {
        "id": "13ZEwX9BNqG4"
      },
      "source": [
        "## II. 隨堂練習"
      ]
    },
    {
      "cell_type": "markdown",
      "metadata": {
        "id": "6AwUda3ZhsZG"
      },
      "source": [
        "**隨堂練習1: 自我介紹**\n",
        "\n",
        "我們將和電腦一起完成很多工作，並要求它為我們做一堆很酷的事情，所以不妨來個自我介紹，正式打個招呼！\n",
        "\n",
        "(1)使用print()函數向電腦介紹自己。你的自我介紹應該顯示在主控台視窗裡，中英文均可。\n",
        "\n",
        "(2)更改現有的print()函數，使用f字串。\n",
        "\n",
        "請創立兩個變數，name和age；然後為name變數指派你的名字字串，為age變數指派一個數學運算式，計算你的年齡。最後，使用f字串、name和age變數輸出你的簡介到電腦上！\n",
        "\n",
        "預期輸出範例\n",
        "\n",
        "\"Hello, My name is Franics. I was bon in 2000.\"\n",
        "\n",
        "\"Hi, My name is Franics and I am 21 years old!\""
      ]
    },
    {
      "cell_type": "code",
      "metadata": {
        "colab": {
          "base_uri": "https://localhost:8080/"
        },
        "id": "GBGJxLsnu0C1",
        "outputId": "b84b99bc-9cbc-4bba-9172-ba9e78bfb2c7"
      },
      "source": [
        "print(\"Hello, My neme is Ching Ho. I was born in 2002.\")\n",
        "name=\"Ching Ho\"\n",
        "age=2021-2000\n",
        "print(f\"Hi My name is {name} and I am {age} years old!\")\n",
        "name=input(\"Please,enter your name.\")\n",
        "year=int(input(\"Please, which calendar year were you born?\"))\n",
        "age=2021 - year\n",
        "print(\"Hi, My name is\", name, \"and I am \", age, \"years old!\")"
      ],
      "execution_count": null,
      "outputs": [
        {
          "output_type": "stream",
          "text": [
            "Hello, My neme is Ching Ho. I was born in 2002.\n",
            "Hi My name is Ching Ho and I am 21 years old!\n"
          ],
          "name": "stdout"
        }
      ]
    },
    {
      "cell_type": "code",
      "metadata": {
        "id": "NTZaw1Gvsdda"
      },
      "source": [
        ""
      ],
      "execution_count": null,
      "outputs": []
    },
    {
      "cell_type": "code",
      "metadata": {
        "id": "ZONf2snOg7Ml",
        "colab": {
          "base_uri": "https://localhost:8080/"
        },
        "outputId": "26833ebc-ce4f-4042-c4d3-e4bd47c0d771"
      },
      "source": [
        "a=100\n",
        "print(a)\n",
        "b=50\n",
        "print(b)\n"
      ],
      "execution_count": null,
      "outputs": [
        {
          "output_type": "stream",
          "text": [
            "100\n",
            "50\n"
          ],
          "name": "stdout"
        }
      ]
    },
    {
      "cell_type": "code",
      "metadata": {
        "id": "15sw0sprjfL6"
      },
      "source": [
        ""
      ],
      "execution_count": null,
      "outputs": []
    },
    {
      "cell_type": "markdown",
      "metadata": {
        "id": "3TUFVF1wiGF8"
      },
      "source": [
        "**隨堂練習2: 引用引文**\n",
        "\n",
        "在網路上搜尋名言，或者使用你自己的名言。它可以是激勵你的文字、電影中一段有趣的台詞，甚至是家人說的話。"
      ]
    },
    {
      "cell_type": "markdown",
      "metadata": {
        "id": "tKhmRklJiNQ7"
      },
      "source": [
        "**隨堂練習3: 情緒變數**\n",
        "\n",
        "通常，我們的心情每天每分每秒都在變化。某天我們可能精力充沛，隔天我們可能感覺非常疲憊；或者今天是星期五，大多數的人都非常快樂！無論我們的心情如何，我們都可以使用變數保存它。"
      ]
    },
    {
      "cell_type": "markdown",
      "metadata": {
        "id": "yhT7SEOgigU-"
      },
      "source": [
        "**隨堂練習4: 滑稽故事**\n",
        "\n",
        "你玩過Mad Libs這種紙上遊戲嗎？這是一個有趣的遊戲，你要求另一個人給你各種類型單字，例如：顏色、數字、形容詞等，並且將這些單字填補到短篇故事中的空白處，當空白處填完畢後，你朗誦整段故事給他們聽，大多時候，這些故事真的變得很滑稽。\n",
        "\n",
        "大家該做什麼\n",
        "\n",
        "我們知道可以使用f字串替換字串的某些部分，編寫一個程式，輸出你那荒謬的、來自朋友的故事。以下是開始的步驟：\n",
        "\n",
        "Step 1: 創立一個新檔來儲存滑稽故事的程式。\n",
        "\n",
        "Step 2: 創立四到五個不同類型單字的變數。例如下面並儲存這些變數在檔案中。\n",
        "\n",
        "```\n",
        "name = \"\"\n",
        "adjective = \"\"\n",
        "favorite_snack = \"\"\n",
        "number = \"\"\n",
        "type_of_tree = \"\"\n",
        "```\n",
        "\n",
        "請注意，我們尚未指派變數的任何值。這裡就是之後填入朋友提供你的單字之處。\n",
        "\n",
        "Step3: 創立另一個變數保存你的滑稽故事，你可以使用此模版或編寫你自己的模版：\n",
        "\n",
        "```\n",
        "silly_story = f\"\"\"\n",
        "Hi, my name is {name}.\n",
        "I really like {adjective}{favorite_snack}!\n",
        "I like it so much, I try to eat it at least {number} times every day.\n",
        "It tastes even better when you eat it under a {type of tree}!\n",
        "\"\"\"\n",
        "```\n",
        "\n",
        "Step4: 最後，使用print()函式輸出你的滑稽故事：\n",
        "\n",
        "```\n",
        "print(silly_story)\n",
        "```\n",
        "\n",
        "這樣就完成了！現在去找朋友，要求他們給一些單字（你的變數）。將變數更改為朋友給你的單字，儲存程式然後執行它，看看你的滑稽故事。"
      ]
    },
    {
      "cell_type": "markdown",
      "metadata": {
        "id": "MM_K13L9OGfY"
      },
      "source": [
        "## III. 課後練習"
      ]
    },
    {
      "cell_type": "markdown",
      "metadata": {
        "id": "gWi7UdhNDmpI"
      },
      "source": [
        "**練習3: 變數賦值，小猴子摘水果**\n",
        "\n",
        "有一天，一隻小猴子來到果園裡，牠走道蘋果樹下，看到滿樹的蘋果，就爬上去摘了2個。又看到不滿的地方有一個梨子樹，又大又黃，就丟掉蘋果，爬到梨子樹摘了1個梨子。正準備吃的時候，看到前方又紅又大的桃子樹，就又高高興興地跑到桃樹上，摘了3個桃子。這時傳來小鳥的叫聲，鳥在香蕉樹上，當然就立馬飛奔去摘香蕉，最後吃了6根香蕉。請問這隻猴子摘了多少個水果，手中最後的水果是什麼？請你用Python記錄一下！"
      ]
    },
    {
      "cell_type": "markdown",
      "metadata": {
        "id": "67eb5JKZDvPn"
      },
      "source": [
        "**練習4: 是真的嗎？網路資料不輕信**\n",
        "\n",
        "宣宣這學期開始學習Python，老師和學長姊都說多上網查找相關資料，多多麻煩Google大神找答案，是提升自學能力最好的方法。於是她看到一段與上課有關但老師沒有教的內容，宣宣想看看下面的內容正不正確，你能幫助她嗎？(1)在Python中，用1表示True，用0和其他非1的整數表示False。(2)在Python中，所有物件都可以進行布林測試。"
      ]
    }
  ]
}