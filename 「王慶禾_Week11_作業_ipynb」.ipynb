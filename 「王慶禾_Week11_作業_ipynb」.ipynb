{
  "nbformat": 4,
  "nbformat_minor": 0,
  "metadata": {
    "kernelspec": {
      "display_name": "Python 3",
      "language": "python",
      "name": "python3"
    },
    "language_info": {
      "codemirror_mode": {
        "name": "ipython",
        "version": 3
      },
      "file_extension": ".py",
      "mimetype": "text/x-python",
      "name": "python",
      "nbconvert_exporter": "python",
      "pygments_lexer": "ipython3",
      "version": "3.8.5"
    },
    "colab": {
      "name": "「王慶禾-Week11-作業 .ipynb」的副本",
      "provenance": [],
      "include_colab_link": true
    }
  },
  "cells": [
    {
      "cell_type": "markdown",
      "metadata": {
        "id": "view-in-github",
        "colab_type": "text"
      },
      "source": [
        "<a href=\"https://colab.research.google.com/github/A109010103/Computational-Thinking-and-program-design/blob/main/%E3%80%8C%E7%8E%8B%E6%85%B6%E7%A6%BE_Week11_%E4%BD%9C%E6%A5%AD_ipynb%E3%80%8D.ipynb\" target=\"_parent\"><img src=\"https://colab.research.google.com/assets/colab-badge.svg\" alt=\"Open In Colab\"/></a>"
      ]
    },
    {
      "cell_type": "markdown",
      "metadata": {
        "id": "VZvKzNrqqqRH"
      },
      "source": [
        "# 基本程式設計(應用篇)"
      ]
    },
    {
      "cell_type": "markdown",
      "metadata": {
        "id": "V06DMTbtqqRJ"
      },
      "source": [
        "### 4-2 運算思維四個基石"
      ]
    },
    {
      "cell_type": "markdown",
      "metadata": {
        "id": "mg06mWEZqqRK"
      },
      "source": [
        "#### 4-2-4  問題拆解 - 打造你的聊天機器人"
      ]
    },
    {
      "cell_type": "markdown",
      "metadata": {
        "id": "tlu5049RqqRK"
      },
      "source": [
        "「哈囉，大家好。我叫Zyxo64，是一個聊天機器人。\n",
        "\n",
        "在嗜好與興趣方面，我很喜歡美食，也喜歡養動物。\n",
        "\n",
        "很高興有機會來到世新大學，請大家多多指教。\n",
        "\n",
        "嗨！妳好，請問大名？：Francis。\n",
        "\n",
        "Francis，很高興認識你。"
      ]
    },
    {
      "cell_type": "code",
      "metadata": {
        "colab": {
          "base_uri": "https://localhost:8080/"
        },
        "id": "qeZ6iuskqqRL",
        "outputId": "b34edd54-9adc-4534-f044-97e5e9fb0b29"
      },
      "source": [
        "# 1.聊天機器人自我介紹\n",
        "print(\"哈囉，大家好。我叫Zyxo64，是一個聊天機器人\")\n",
        "print(\"在嗜好與興趣方面，我很喜歡美食，也喜歡養動物。\")\n",
        "print(\"很高興有機會來到世新大學，請大家多多指教。\")\n",
        "# 2. 打招呼，取得對方名字\n",
        "name = input (\"Enter Your Name:\")\n",
        "print(\"嗨！妳好，請問大名？\", name )"
      ],
      "execution_count": null,
      "outputs": [
        {
          "output_type": "stream",
          "text": [
            "哈囉，大家好。我叫Zyxo64，是一個聊天機器人\n",
            "在嗜好與興趣方面，我很喜歡美食，也喜歡養動物。\n",
            "很高興有機會來到世新大學，請大家多多指教。\n",
            "Enter Your Name:Kimi\n",
            "嗨！妳好，請問大名？ Kimi\n"
          ],
          "name": "stdout"
        }
      ]
    },
    {
      "cell_type": "markdown",
      "metadata": {
        "id": "oCd42GWqqqRM"
      },
      "source": [
        "抱歉，請問一下今年是西元2021年，那是民國幾年呢？：*110*。\n",
        "\n",
        "對！沒錯，謝謝妳！\n",
        "\n",
        "**Francis**，猜猜看我今年幾歲？ ：**18**。\n",
        "\n",
        "哇！你好聰明，我今年的確*18*。\n",
        "\n",
        "再82年我就100歲了。\n",
        "\n",
        "那時候是西元 2103年，也就是民國192年囉！"
      ]
    },
    {
      "cell_type": "code",
      "metadata": {
        "colab": {
          "base_uri": "https://localhost:8080/"
        },
        "id": "PLJHU7qlqqRM",
        "outputId": "1cccabb4-236b-4fa6-f601-b0987ac8cca3"
      },
      "source": [
        "# 3. 數學運算\n",
        "## 3-1 從使用者取得今年年份\n",
        "year = input(\"Enter The Number:\")\n",
        "print(\"抱歉，請問一下今年是西元2021年，那是民國幾年呢？：\", year)\n",
        "print(\"對！沒錯，謝謝妳！\")\n",
        "## 3-2 請使用者猜年齡\n",
        "name = input (\"Enter Your Name:\")\n",
        "age = input (\"Enter Your Age\")\n",
        "print(name , \"猜猜看我今年幾歲？ ：\",age )\n",
        "print(\"哇！你好聰明，我今年的確\", age)\n",
        "## 3-3 計算聊天機器人滿100歲的年份\n",
        "a = int(age)\n",
        "b = (100 - a)\n",
        "y = int(year)\n",
        "print(\"再\", b ,\"年我就100歲了\")\n",
        "print(\"那時候是西元\", 2021+b ,\"年\", \"也就是民國\",y+b, \"年囉！\")"
      ],
      "execution_count": null,
      "outputs": [
        {
          "output_type": "stream",
          "text": [
            "Enter The Number:110\n",
            "抱歉，請問一下今年是西元2021年，那是民國幾年呢？： 110\n",
            "對！沒錯，謝謝妳！\n",
            "Enter Your Name:vivivan\n",
            "Enter Your Age19\n",
            "vivivan 猜猜看我今年幾歲？ ： 19\n",
            "哇！你好聰明，我今年的確 19\n",
            "再 81 年我就100歲了\n",
            "那時候是西元 2102 年 也就是民國 191 年囉！\n"
          ],
          "name": "stdout"
        }
      ]
    },
    {
      "cell_type": "markdown",
      "metadata": {
        "id": "pe2su-YXqqRN"
      },
      "source": [
        "我喜歡吃巧克力，也喜歡嘗試各種新食物。\n",
        "\n",
        "你呢？你最喜歡的食物是什麼？**:披薩**。\n",
        "\n",
        "我也喜歡 *披薩*。\n",
        "\n",
        "你多久吃一次 *披薩*？**：每天**。\n",
        "\n",
        "真有趣。不知道這樣對健康好不好。"
      ]
    },
    {
      "cell_type": "code",
      "metadata": {
        "colab": {
          "base_uri": "https://localhost:8080/"
        },
        "id": "02DQBfRbqqRN",
        "outputId": "ba9279de-f037-4735-edd8-47c4d9e39b89"
      },
      "source": [
        "# 4 興趣\n",
        "print(\"我喜歡吃巧克力，也喜歡嘗試各種新食物。\")\n",
        "## 4-1 食物話題\n",
        "food = input(\"Enter The Food:\")\n",
        "print(\"你呢？你最喜歡的食物是什麼？:\",food)\n",
        "print(\"我也喜歡\", food)\n",
        "time = input(\"Enter The Time\")\n",
        "print(\"你多久吃一次 披薩？：\"+ time)\n",
        "print(\"真有趣。不知道這樣對健康好不好。\")"
      ],
      "execution_count": null,
      "outputs": [
        {
          "output_type": "stream",
          "text": [
            "我喜歡吃巧克力，也喜歡嘗試各種新食物。\n",
            "Enter The Food:蛋餅\n",
            "你呢？你最喜歡的食物是什麼？: 蛋餅\n",
            "我也喜歡 蛋餅\n",
            "Enter The Time每天\n",
            "你多久吃一次 披薩？：每天\n",
            "真有趣。不知道這樣對健康好不好。\n"
          ],
          "name": "stdout"
        }
      ]
    },
    {
      "cell_type": "markdown",
      "metadata": {
        "id": "XJAVTfPGqqRO"
      },
      "source": [
        "我最喜歡的動物是長頸鹿。你呢？ **：烏龜**。\n",
        "\n",
        "我不喜歡*烏龜*！\n",
        "\n",
        "不知道 *烏龜* 喜不喜歡吃 *披薩*？"
      ]
    },
    {
      "cell_type": "code",
      "metadata": {
        "colab": {
          "base_uri": "https://localhost:8080/"
        },
        "id": "7sbgd9RSqqRO",
        "outputId": "b1c50f05-75d4-4fde-8b1d-0cc51a917e9e"
      },
      "source": [
        "# 4 興趣\n",
        "## 4-2 動物話題\n",
        "animals = input(\"Enter The Animals:\")\n",
        "print(\"我最喜歡的動物是長頸鹿。你呢？ ：\",animals)\n",
        "print(\"我不喜歡\",animals)\n",
        "food = input(\"Enter The Food:\")\n",
        "print(\"不知道\"+animals+\"喜不喜歡吃\",food+ \"?\")"
      ],
      "execution_count": null,
      "outputs": [
        {
          "output_type": "stream",
          "text": [
            "Enter The Animals:企鵝\n",
            "我最喜歡的動物是長頸鹿。你呢？ ： 企鵝\n",
            "我不喜歡 企鵝\n",
            "Enter The Food:蛋餅\n",
            "不知道企鵝喜不喜歡吃 蛋餅?\n"
          ],
          "name": "stdout"
        }
      ]
    },
    {
      "cell_type": "markdown",
      "metadata": {
        "id": "W19M5Zi3qqRO"
      },
      "source": [
        "你今天的心情如何？ **：很開心**。\n",
        "\n",
        "可以告訴我你 *開心* 的原因嗎？**因為週末了！** \n",
        "\n",
        "祝你週末愉快！\n",
        "\n",
        "我喜歡跟你聊天，現在有點累了，改天再聊吧！！\n",
        "\n",
        "再見 *Francis*！"
      ]
    },
    {
      "cell_type": "code",
      "metadata": {
        "colab": {
          "base_uri": "https://localhost:8080/"
        },
        "id": "TlzGrErqqqRP",
        "outputId": "0e0bdb78-4420-4929-c8fa-c63299c4cffa"
      },
      "source": [
        "# 5. 關於心情的對話\n",
        "mood = input(\"Enter The Mood:\")\n",
        "print(\"你今天的心情如何？ ：\", mood)\n",
        "reason = input(\"Enter The Reason:\")\n",
        "print(\"可以告訴我你 開心 的原因嗎？\"+reason)\n",
        "print(\"祝你週末愉快\")\n",
        "print(\"我喜歡跟你聊天，現在有點累了，改天再聊吧！！\")\n",
        "name = input(\"Enter The Name:\")\n",
        "print(\"再見\",name+\"!\")"
      ],
      "execution_count": null,
      "outputs": [
        {
          "output_type": "stream",
          "text": [
            "Enter The Mood:很開心\n",
            "你今天的心情如何？ ： 很開心\n",
            "Enter The Reason:因為週末了！\n",
            "可以告訴我你 開心 的原因嗎？因為週末了！\n",
            "祝你週末愉快\n",
            "我喜歡跟你聊天，現在有點累了，改天再聊吧！！\n",
            "Enter The Name:Kimi\n",
            "再見 Kimi!\n"
          ],
          "name": "stdout"
        }
      ]
    },
    {
      "cell_type": "markdown",
      "metadata": {
        "id": "CUOeyuNaqqRP"
      },
      "source": [
        "我喜歡跟你聊天，現在有點累了，改天再聊吧！！\n",
        "\n",
        "再見 *Francis*！"
      ]
    },
    {
      "cell_type": "code",
      "metadata": {
        "colab": {
          "base_uri": "https://localhost:8080/"
        },
        "id": "Ccpcr1YbqqRP",
        "outputId": "813978d5-a595-46a5-c30a-e2e955bb9df5"
      },
      "source": [
        "# 6. 道別\n",
        "print(\"我喜歡跟你聊天，現在有點累了，改天再聊吧！！\")\n",
        "name = input(\"Enter The Name:\")\n",
        "print(\"再見\",name,\"!\")"
      ],
      "execution_count": null,
      "outputs": [
        {
          "output_type": "stream",
          "text": [
            "我喜歡跟你聊天，現在有點累了，改天再聊吧！！\n",
            "Enter The Name:Kimi\n",
            "再見 Kimi !\n"
          ],
          "name": "stdout"
        }
      ]
    },
    {
      "cell_type": "markdown",
      "metadata": {
        "id": "R8i1rL6CqqRQ"
      },
      "source": [
        "## 期末報告"
      ]
    },
    {
      "cell_type": "markdown",
      "metadata": {
        "id": "hxAekVFCqqRQ"
      },
      "source": [
        "### 組長(學號姓名):\n",
        "\n"
      ]
    },
    {
      "cell_type": "markdown",
      "metadata": {
        "id": "9bFny9JQqqRQ"
      },
      "source": [
        "### 組員(學號姓名):\n",
        "\n"
      ]
    },
    {
      "cell_type": "markdown",
      "metadata": {
        "id": "7N-nlF7XqqRQ"
      },
      "source": [
        "### 題目:"
      ]
    },
    {
      "cell_type": "markdown",
      "metadata": {
        "id": "LophN-5RqqRR"
      },
      "source": [
        "### 百字腳本\n",
        "\n"
      ]
    }
  ]
}