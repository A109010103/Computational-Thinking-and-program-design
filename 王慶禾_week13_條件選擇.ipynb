{
  "nbformat": 4,
  "nbformat_minor": 0,
  "metadata": {
    "kernelspec": {
      "display_name": "Python 3",
      "language": "python",
      "name": "python3"
    },
    "language_info": {
      "codemirror_mode": {
        "name": "ipython",
        "version": 3
      },
      "file_extension": ".py",
      "mimetype": "text/x-python",
      "name": "python",
      "nbconvert_exporter": "python",
      "pygments_lexer": "ipython3",
      "version": "3.8.5"
    },
    "colab": {
      "name": "Copy of 王慶禾-week13-條件選擇.ipynb",
      "provenance": [],
      "include_colab_link": true
    }
  },
  "cells": [
    {
      "cell_type": "markdown",
      "metadata": {
        "id": "view-in-github",
        "colab_type": "text"
      },
      "source": [
        "<a href=\"https://colab.research.google.com/github/A109010103/Computational-Thinking-and-program-design/blob/main/%E7%8E%8B%E6%85%B6%E7%A6%BE_week13_%E6%A2%9D%E4%BB%B6%E9%81%B8%E6%93%87.ipynb\" target=\"_parent\"><img src=\"https://colab.research.google.com/assets/colab-badge.svg\" alt=\"Open In Colab\"/></a>"
      ]
    },
    {
      "cell_type": "markdown",
      "metadata": {
        "id": "93UH15qu4v5Y"
      },
      "source": [
        "### 1. 單向選擇\n"
      ]
    },
    {
      "cell_type": "code",
      "metadata": {
        "id": "owQcsB8X4v5e"
      },
      "source": [
        "## 範例：比較數字（一）: if\n",
        "\n",
        "In [3]: ## 數字資料 （一）\n",
        "   ...: num = int(input(\"請輸入一個數字: \"))\n",
        "   ...: if num > 0:\n",
        "   ...: \tprint(\"數字為正數\")\n",
        "   ...: print(\"比較完畢\")\n",
        "   ...: # 輸入5, 10, -3看結果\n",
        "\n",
        "請輸入一個數字: 5\n",
        "數字為正數\n",
        "比較完畢"
      ],
      "execution_count": null,
      "outputs": []
    },
    {
      "cell_type": "code",
      "metadata": {
        "colab": {
          "base_uri": "https://localhost:8080/"
        },
        "id": "tXI1dSoU4v5f",
        "outputId": "b5b0c00b-840c-4640-fa6a-93238779dd14"
      },
      "source": [
        "num = int(input(\"Enter the numbe:\"))\n",
        "if num > 0:\n",
        "    print(\"數字為正數\")\n",
        "print(\"比較完畢\")    "
      ],
      "execution_count": null,
      "outputs": [
        {
          "output_type": "stream",
          "text": [
            "Enter the numbe:5\n",
            "數字為正數\n",
            "比較完畢\n"
          ],
          "name": "stdout"
        }
      ]
    },
    {
      "cell_type": "code",
      "metadata": {
        "id": "dViRbZjM4v5f"
      },
      "source": [
        "## 範例：比較數字（二）:串接if\n",
        "\n",
        "In [5]: num = int(input(\"輸入一個數字： \"))\n",
        "   ...: \n",
        "   ...: if num > 0:\n",
        "   ...: \tprint(\"是正數\")\n",
        "   ...: if num < 0:\n",
        "   ...: \tprint(\"是負數\")\n",
        "   ...: if num == 0:\n",
        "   ...: \tprint(\"數字是0\")\n",
        "   ...: print(\"比較完畢！\")\n",
        "\n",
        "輸入一個數字： 5\n",
        "是正數\n",
        "比較完畢！"
      ],
      "execution_count": null,
      "outputs": []
    },
    {
      "cell_type": "code",
      "metadata": {
        "colab": {
          "base_uri": "https://localhost:8080/"
        },
        "id": "4W_lxsT_4v5f",
        "outputId": "348a8bb1-ff42-4a04-e417-ce15416af6c7"
      },
      "source": [
        "num = int(input(\"Enter the number\"))\n",
        "if num > 0:\n",
        "    print(\"為正數\")\n",
        "if num < 0:\n",
        "    print(\"為負數\")   \n",
        "if num == 0:\n",
        "    print(\"數字是0\")\n",
        "print(\"比較完畢\")\n"
      ],
      "execution_count": null,
      "outputs": [
        {
          "output_type": "stream",
          "text": [
            "Enter the number5\n",
            "為正數\n",
            "比較完畢\n"
          ],
          "name": "stdout"
        }
      ]
    },
    {
      "cell_type": "code",
      "metadata": {
        "id": "agE-ceip4v5g"
      },
      "source": [
        "## 範例：比較數字（三）:巢狀條件式\n",
        "\n",
        "In [6]: ## 巢狀條件式\n",
        "   ...: num_a = int(input(\"輸入第一個數字？ \"))\n",
        "   ...: num_b = int(input(\"輸入第二個數字？ \"))\n",
        "   ...: \n",
        "   ...: if num_a < 0:\n",
        "   ...: \tprint(\"第一個是負數\")\n",
        "   ...: \tif num_b < 0:\n",
        "   ...: \t\tprint(\"第二個也是負數\")\n",
        "   ...: print(\"比較完成\")\n",
        "\n",
        "輸入第一個數字？ 5\n",
        "\n",
        "輸入第二個數字？ 8\n",
        "比較完成\n",
        "\n",
        "In [7]: ## 非巢狀結構\n",
        "   ...: num_a = int(input(\"輸入第一個數字？ \"))\n",
        "   ...: num_b = int(input(\"輸入第二個數字？ \"))\n",
        "   ...: \n",
        "   ...: if num_a < 0:\n",
        "   ...: \tprint(\"第一個是負數\")\n",
        "   ...: if num_b < 0:\n",
        "   ...: \tprint(\"第二個是負數\")\n",
        "   ...: print(\"比較完成\")\n",
        "\n",
        "輸入第一個數字？ 5\n",
        "\n",
        "輸入第二個數字？ 8\n",
        "比較完成\n",
        "\n",
        "## 加分:請舉例說明這兩個程式的執行結果何時會不同?"
      ],
      "execution_count": null,
      "outputs": []
    },
    {
      "cell_type": "code",
      "metadata": {
        "colab": {
          "base_uri": "https://localhost:8080/"
        },
        "id": "phKXRGec4v5g",
        "outputId": "40aa9a64-9647-4171-b702-e1ea74f1d078"
      },
      "source": [
        "num_a = int(input(\"輸入第一個數字？ \"))\n",
        "num_b = int(input(\"輸入第二個數字？ \")) \n",
        "if num_a < 0:\n",
        "     print(\"第一個是負數\")\n",
        "if num_b < 0:\n",
        "     print(\"第二個也是負數\")\n",
        "print(\"比較完成\")\n"
      ],
      "execution_count": null,
      "outputs": [
        {
          "output_type": "stream",
          "text": [
            "輸入第一個數字？ -4\n",
            "輸入第二個數字？ 3\n",
            "第一個是負數\n",
            "比較完成\n"
          ],
          "name": "stdout"
        }
      ]
    },
    {
      "cell_type": "code",
      "metadata": {
        "id": "xcpx5RWk4v5g"
      },
      "source": [
        "**範例：今晚要煮義大利麵嗎?**"
      ],
      "execution_count": null,
      "outputs": []
    },
    {
      "cell_type": "code",
      "metadata": {
        "id": "1ln_QLlf4v5h"
      },
      "source": [
        "In [10]: ## 今晚吃義大利麵嗎？\n",
        "    ...: noodle = input(\"有麵嗎？ YES or NO: \")\n",
        "    ...: sauce = input(\"有醬料嗎？ YES or NO: \")\n",
        "    ...: \n",
        "    ...: ## 方法（一）\n",
        "    ...: if noodle==\"YES\" and sauce==\"YES\": # 真值表結果\n",
        "    ...: \tprint(\"今天晚上吃義大利麵\")\n",
        "\n",
        "有麵嗎？ YES or NO: YES\n",
        "\n",
        "有醬料嗎？ YES or NO: YES\n",
        "今天晚上吃義大利麵\n",
        "\n",
        "In [11]: ## 方法（二）\n",
        "    ...: if noodle == \"YES\":\n",
        "    ...: \tif sauce == \"YES\":\n",
        "    ...: \t\tprint(\"今天晚上吃義大利麵\")\n",
        "    ...:         \n",
        "今天晚上吃義大利麵"
      ],
      "execution_count": null,
      "outputs": []
    },
    {
      "cell_type": "markdown",
      "metadata": {
        "id": "a9IJfvb14v5h"
      },
      "source": [
        "## 2.  雙向選擇\n"
      ]
    },
    {
      "cell_type": "code",
      "metadata": {
        "id": "8-fCjYo44v5h"
      },
      "source": [
        "**範例: 判斷及格與不及格**\n",
        "\n",
        " In [1]: score = int(input('請輸入一個成績？'))\n",
        "    ...: if score >= 60:\n",
        "    ...:     print('有及格ㄡ～')\n",
        "    ...: else:\n",
        "    ...:     print('不及格ㄟ！')\n",
        "    ...:     \n",
        "\n",
        "請輸入一個成績？88\n",
        "有及格ㄡ～"
      ],
      "execution_count": null,
      "outputs": []
    },
    {
      "cell_type": "code",
      "metadata": {
        "colab": {
          "base_uri": "https://localhost:8080/"
        },
        "id": "eI4omvB-4v5i",
        "outputId": "d332e251-ecf1-4019-fa5a-08925c019e94"
      },
      "source": [
        "score = int(input('請輸入一個成績？'))\n",
        "if score >= 60:\n",
        "      print('有及格ㄡ～')\n",
        "else:\n",
        "      print('不及格ㄟ！')"
      ],
      "execution_count": null,
      "outputs": [
        {
          "output_type": "stream",
          "text": [
            "請輸入一個成績？40\n",
            "不及格ㄟ！\n"
          ],
          "name": "stdout"
        }
      ]
    },
    {
      "cell_type": "markdown",
      "metadata": {
        "id": "G5OmhEah4v5i"
      },
      "source": [
        "#### 隨堂練習: 滿2000 打九折\n",
        "\n",
        "**請寫一個程式幫助店家計算顧客所需付出的金額。**\n",
        "\n",
        "採買物品時，有時會遇到店家為了刺激消費，會使用滿額折扣。例如，滿2000 打九折，未滿2000 則不打折。"
      ]
    },
    {
      "cell_type": "code",
      "metadata": {
        "colab": {
          "base_uri": "https://localhost:8080/"
        },
        "id": "qxIR4jNQ4v5i",
        "outputId": "e24d1a8d-d5fe-4d45-aeb3-4463133f96e1"
      },
      "source": [
        "price = int(input(\"Enter the number:\"))\n",
        "if price >=2000:\n",
        "   final_price = price*0.9\n",
        "   print(\"價格為\", final_price ,\"元\")\n",
        "else:\n",
        "   print(\"價格為\", price ,\"元\")   "
      ],
      "execution_count": null,
      "outputs": [
        {
          "output_type": "stream",
          "text": [
            "Enter the number:1500\n",
            "價格為 1500 元\n"
          ],
          "name": "stdout"
        }
      ]
    },
    {
      "cell_type": "code",
      "metadata": {
        "id": "14yL3cpx4v5i"
      },
      "source": [
        "#### 範例 三角形判斷\n",
        "\n",
        "設計一個程式允許輸入三角形三邊長，分別為a、b 與c，根據三角形中任兩邊相加要大於第三邊，判斷是否為三角形。\n",
        "\n",
        "In [1]: a = int(input('請輸入三角形邊長a長度為？'))\n",
        "    ...: b = int(input('請輸入三角形邊長b長度為？'))\n",
        "    ...: c = int(input('請輸入三角形邊長c長度為？'))\n",
        "    ...: \n",
        "    ...: if (a < b + c)and(b < a + c)and( c < a + b):   #任兩邊相加是否大於第三邊\n",
        "    ...:     print('可構成三角形')\n",
        "    ...: else:\n",
        "    ...:     print('無法構成三角形')\n",
        "    ...:     \n",
        "\n",
        "請輸入三角形邊長a長度為？3\n",
        "\n",
        "請輸入三角形邊長b長度為？4\n",
        "\n",
        "請輸入三角形邊長c長度為？5\n",
        "可構成三角形"
      ],
      "execution_count": null,
      "outputs": []
    },
    {
      "cell_type": "code",
      "metadata": {
        "colab": {
          "base_uri": "https://localhost:8080/"
        },
        "id": "0DObHOLg4v5j",
        "outputId": "69dbcdb2-8b59-4bfc-8ec8-f593ab09438d"
      },
      "source": [
        "a = int(input('請輸入三角形邊長a長度為？'))\n",
        "b = int(input('請輸入三角形邊長b長度為？'))\n",
        "c = int(input('請輸入三角形邊長c長度為？'))\n",
        "if (a < b+c)and(b<a+c)and(c<a+b):\n",
        "    print(\"可構成三角形\")\n",
        "else:\n",
        "    print('無法構成三角形')"
      ],
      "execution_count": null,
      "outputs": [
        {
          "output_type": "stream",
          "text": [
            "請輸入三角形邊長a長度為？3\n",
            "請輸入三角形邊長b長度為？3\n",
            "請輸入三角形邊長c長度為？3\n",
            "可構成三角形\n"
          ],
          "name": "stdout"
        }
      ]
    },
    {
      "cell_type": "markdown",
      "metadata": {
        "id": "wQesXz-N4v5j"
      },
      "source": [
        "#### 隨堂練習: 判斷奇偶數\n",
        "\n",
        "請寫一個程式判斷輸入的值是奇數還是偶數。"
      ]
    },
    {
      "cell_type": "code",
      "metadata": {
        "colab": {
          "base_uri": "https://localhost:8080/"
        },
        "id": "Ns9jqWAF4v5j",
        "outputId": "6d0dc51c-869f-4bc8-8c1a-b6f97957eab4"
      },
      "source": [
        "num = int(input(\"Enter the number:\"))\n",
        "if num % 2 == 0:\n",
        "    print(\"為偶數\")\n",
        "if num % 2 > 0:\n",
        "    print(\"為奇數\")\n",
        "print(\"比較完畢\")"
      ],
      "execution_count": null,
      "outputs": [
        {
          "output_type": "stream",
          "text": [
            "Enter the number:1\n",
            "為奇數\n",
            "比較完畢\n"
          ],
          "name": "stdout"
        }
      ]
    },
    {
      "cell_type": "markdown",
      "metadata": {
        "id": "l6iH30VS4v5k"
      },
      "source": [
        "## 3. 多向選擇\n"
      ]
    },
    {
      "cell_type": "code",
      "metadata": {
        "id": "L4cdUIJV4v5k"
      },
      "source": [
        "#### 範例：兩個數比大小\n",
        "\n",
        "In [1]: ## Input\n",
        "    ...: num1 = int(input(\"Please input a number: \"))\n",
        "    ...: num2 = int(input(\"Please input another number: \"))\n",
        "    ...: \n",
        "    ...: ## Process＋ Output\n",
        "    ...: if num1 == num2:\n",
        "    ...:     print(num1, \"等於\", num2)\n",
        "    ...: elif num1 < num2:\n",
        "    ...:     print(num1, \"小於\", num2)\n",
        "    ...: else:\n",
        "    ...:     print(num1, \"大於\", num2)\n",
        "\n",
        "Please input a number: 5\n",
        "\n",
        "Please input another number: 8\n",
        "5 小於 8"
      ],
      "execution_count": null,
      "outputs": []
    },
    {
      "cell_type": "code",
      "metadata": {
        "id": "kizq9bZR4v5k"
      },
      "source": [
        ""
      ],
      "execution_count": null,
      "outputs": []
    },
    {
      "cell_type": "code",
      "metadata": {
        "id": "Qiwqzsup4v5l"
      },
      "source": [
        "#### 範例 : 郵資計算\n",
        "\n",
        "某快遞公司以重量為計算郵資的依據，重量與郵資計算如下表，請寫一個程式協助快遞人員計算郵資，快遞人員只要輸入重量，程式自動計算郵資。\n",
        "\n",
        "In [1]: ## 郵資計算\n",
        "    ...: w = float(input('請輸入物品重量？')) # Input\n",
        "    ...: \n",
        "    ...: if w <= 5:                          \n",
        "    ...:     print('所需郵資為50元')\n",
        "    ...: elif w <= 10:\n",
        "    ...:     print('所需郵資為70元')\n",
        "    ...: elif w <= 15:\n",
        "    ...:     print('所需郵資為90元')\n",
        "    ...: elif w <= 20:\n",
        "    ...:     print('所需郵資為110元')\n",
        "    ...: else:\n",
        "    ...:     print('超過20公斤無法寄送')\n",
        "\n",
        "請輸入物品重量？20\n",
        "所需郵資為110元"
      ],
      "execution_count": null,
      "outputs": []
    },
    {
      "cell_type": "code",
      "metadata": {
        "id": "89LqrysC4v5l"
      },
      "source": [
        ""
      ],
      "execution_count": null,
      "outputs": []
    },
    {
      "cell_type": "markdown",
      "metadata": {
        "id": "vFibX5Rj4v5l"
      },
      "source": [
        "#### 隨堂練習： BMI 計算\n",
        "\n",
        "**請寫一個程式讓使用者輸入身高與體重，顯示BMI 值與肥胖程度。**"
      ]
    },
    {
      "cell_type": "code",
      "metadata": {
        "id": "IZXXOrun4v5m"
      },
      "source": [
        ""
      ],
      "execution_count": null,
      "outputs": []
    }
  ]
}